{
 "cells": [
  {
   "cell_type": "code",
   "execution_count": 1,
   "metadata": {},
   "outputs": [],
   "source": [
    "from mmdet.datasets import (build_dataloader, build_dataset,\n",
    "                            replace_ImageToTensor)\n",
    "from mmcv.parallel import MMDataParallel\n",
    "from mmdet3d.datasets import build_dataset\n",
    "from mmdet3d.models import build_model\n",
    "from mmcv.runner import get_dist_info, init_dist, load_checkpoint, wrap_fp16_model\n",
    "from mmcv import Config, DictAction\n",
    "import warnings\n",
    "from timeit import default_timer as timer\n",
    "import torch.utils.benchmark as benchmark\n",
    "import torch.nn as nn\n",
    "import torch\n",
    "import os\n",
    "import time\n",
    "import logging\n",
    "from custome_logger import setup_custom_logger\n",
    "logger = setup_custom_logger()\n",
    "logger.debug(\"test\")\n"
   ]
  },
  {
   "cell_type": "code",
   "execution_count": 5,
   "metadata": {},
   "outputs": [],
   "source": [
    "def import_modules_load_config(cfg_file=\"beverse_tiny.py\", samples_per_gpu=1):\n",
    "    cfg_path = r\"/home/niklas/ETM_BEV/BEVerse/projects/configs\"\n",
    "    cfg_path = os.path.join(cfg_path, cfg_file)\n",
    "\n",
    "    cfg = Config.fromfile(cfg_path)\n",
    "\n",
    "    # if args.cfg_options is not None:\n",
    "    #     cfg.merge_from_dict(args.cfg_options)\n",
    "    # import modules from string list.\n",
    "    if cfg.get(\"custom_imports\", None):\n",
    "        from mmcv.utils import import_modules_from_strings\n",
    "\n",
    "        import_modules_from_strings(**cfg[\"custom_imports\"])\n",
    "\n",
    "    # import modules from plguin/xx, registry will be updated\n",
    "    if hasattr(cfg, \"plugin\"):\n",
    "        if cfg.plugin:\n",
    "            import importlib\n",
    "\n",
    "            if hasattr(cfg, \"plugin_dir\"):\n",
    "                plugin_dir = cfg.plugin_dir\n",
    "                _module_dir = os.path.dirname(plugin_dir)\n",
    "                _module_dir = _module_dir.split(\"/\")\n",
    "                _module_path = _module_dir[0]\n",
    "\n",
    "                for m in _module_dir[1:]:\n",
    "                    _module_path = _module_path + \".\" + m\n",
    "                print(_module_path)\n",
    "                plg_lib = importlib.import_module(_module_path)\n",
    "            else:\n",
    "                # import dir is the dirpath for the config file\n",
    "                _module_dir = cfg_path\n",
    "                _module_dir = _module_dir.split(\"/\")\n",
    "                _module_path = _module_dir[0]\n",
    "                for m in _module_dir[1:]:\n",
    "                    _module_path = _module_path + \".\" + m\n",
    "                print(_module_path)\n",
    "                plg_lib = importlib.import_module(_module_path)\n",
    "\n",
    "    samples_per_gpu = 1\n",
    "    if isinstance(cfg.data.test, dict):\n",
    "        cfg.data.test.test_mode = True\n",
    "        samples_per_gpu = cfg.data.test.pop(\"samples_per_gpu\", 1)\n",
    "        if samples_per_gpu > 1:\n",
    "            # Replace 'ImageToTensor' to 'DefaultFormatBundle'\n",
    "            cfg.data.test.pipeline = replace_ImageToTensor(\n",
    "                cfg.data.test.pipeline)\n",
    "    elif isinstance(cfg.data.test, list):\n",
    "        for ds_cfg in cfg.data.test:\n",
    "            ds_cfg.test_mode = True\n",
    "        samples_per_gpu = max(\n",
    "            [ds_cfg.pop(\"samples_per_gpu\", 1) for ds_cfg in cfg.data.test]\n",
    "        )\n",
    "        if samples_per_gpu > 1:\n",
    "            for ds_cfg in cfg.data.test:\n",
    "                ds_cfg.pipeline = replace_ImageToTensor(ds_cfg.pipeline)\n",
    "\n",
    "    return cfg\n",
    "\n",
    "\n",
    "torch.backends.cudnn.benchmark = True\n"
   ]
  },
  {
   "cell_type": "code",
   "execution_count": 6,
   "metadata": {},
   "outputs": [
    {
     "name": "stdout",
     "output_type": "stream",
     "text": [
      "projects.mmdet3d_plugin\n"
     ]
    }
   ],
   "source": [
    "cfg = import_modules_load_config(\n",
    "    cfg_file=r\"petr/petr_r50dcn_gridmask_p4.py\")\n",
    "\n",
    "cfg.data_root = '/home/niklas/ETM_BEV/BEVerse/data/nuscenes/'\n"
   ]
  },
  {
   "cell_type": "code",
   "execution_count": 11,
   "metadata": {},
   "outputs": [
    {
     "data": {
      "text/plain": [
       "'/home/niklas/ETM_BEV/BEVerse/data/nuscenes/'"
      ]
     },
     "execution_count": 11,
     "metadata": {},
     "output_type": "execute_result"
    }
   ],
   "source": [
    "cfg.data_root\n"
   ]
  },
  {
   "cell_type": "code",
   "execution_count": 5,
   "metadata": {},
   "outputs": [
    {
     "data": {
      "text/plain": [
       "dict_keys(['point_cloud_range', 'class_names', 'dataset_type', 'data_root', 'input_modality', 'file_client_args', 'train_pipeline', 'test_pipeline', 'eval_pipeline', 'data', 'evaluation', 'checkpoint_config', 'log_config', 'dist_params', 'log_level', 'work_dir', 'load_from', 'resume_from', 'workflow', 'backbone_norm_cfg', 'plugin', 'plugin_dir', 'voxel_size', 'img_norm_cfg', 'model', 'db_sampler', 'ida_aug_conf', 'optimizer', 'optimizer_config', 'lr_config', 'total_epochs', 'find_unused_parameters', 'runner'])"
      ]
     },
     "execution_count": 5,
     "metadata": {},
     "output_type": "execute_result"
    }
   ],
   "source": [
    "cfg.keys()"
   ]
  },
  {
   "cell_type": "code",
   "execution_count": 4,
   "metadata": {},
   "outputs": [],
   "source": [
    "cfg[\"data\"][\"test\"][\"data_root\"] = '/home/niklas/ETM_BEV/BEVerse/data/nuscenes/'\n",
    "cfg[\"data\"][\"test\"][\"ann_file\"] = '/home/niklas/ETM_BEV/BEVerse/data/nuscenes/nuscenes_infos_val.pkl'\n"
   ]
  },
  {
   "cell_type": "code",
   "execution_count": 7,
   "metadata": {},
   "outputs": [],
   "source": [
    "dataset = build_dataset(cfg.data.test)\n",
    "data_loader = build_dataloader(\n",
    "    dataset,\n",
    "    samples_per_gpu=2,\n",
    "    workers_per_gpu=cfg.data.workers_per_gpu,\n",
    "    dist=False,\n",
    "    shuffle=False)\n",
    "\n",
    "sample = next(iter(data_loader))\n"
   ]
  },
  {
   "cell_type": "code",
   "execution_count": 12,
   "metadata": {},
   "outputs": [],
   "source": [
    "gt_bboxes_list= (sample[\"gt_bboxes_3d\"].data[0])\n"
   ]
  },
  {
   "cell_type": "code",
   "execution_count": 66,
   "metadata": {},
   "outputs": [],
   "source": [
    "gt_bboxes_list = [torch.cat(\n",
    "    (gt_bboxes.gravity_center, gt_bboxes.tensor[:, 3:]),\n",
    "    dim=1).to(\"cpu\") for gt_bboxes in gt_bboxes_list]\n"
   ]
  },
  {
   "cell_type": "code",
   "execution_count": 67,
   "metadata": {},
   "outputs": [
    {
     "name": "stdout",
     "output_type": "stream",
     "text": [
      "torch.Size([50, 9])\n",
      "torch.Size([51, 9])\n",
      "torch.Size([56, 9])\n",
      "torch.Size([61, 9])\n"
     ]
    }
   ],
   "source": [
    "for gt_list in gt_bboxes_list:\n",
    "    print(gt_list.shape)\n"
   ]
  },
  {
   "cell_type": "code",
   "execution_count": 55,
   "metadata": {},
   "outputs": [
    {
     "data": {
      "text/plain": [
       "tensor([ 2.8615e+01,  2.7538e+01, -2.4884e-02,  7.3753e-01,  7.3182e-01,\n",
       "         1.6283e+00, -2.8156e+00,  3.6043e-01,  1.1425e+00])"
      ]
     },
     "execution_count": 55,
     "metadata": {},
     "output_type": "execute_result"
    }
   ],
   "source": [
    "gt_bboxes_list[0][0]\n"
   ]
  },
  {
   "cell_type": "code",
   "execution_count": 26,
   "metadata": {},
   "outputs": [
    {
     "data": {
      "text/plain": [
       "dict_keys(['img_metas', 'gt_bboxes_3d', 'gt_labels_3d', 'img'])"
      ]
     },
     "execution_count": 26,
     "metadata": {},
     "output_type": "execute_result"
    }
   ],
   "source": [
    "sample.keys()"
   ]
  },
  {
   "cell_type": "code",
   "execution_count": 8,
   "metadata": {},
   "outputs": [
    {
     "name": "stdout",
     "output_type": "stream",
     "text": [
      "PETR HEAD\n",
      "query_embedding\n",
      " Sequential(\n",
      "  (0): Linear(in_features=384, out_features=256, bias=True)\n",
      "  (1): ReLU()\n",
      "  (2): Linear(in_features=256, out_features=256, bias=True)\n",
      ") \n",
      "\n",
      "reference_points\n",
      " Embedding(900, 3) \n",
      "\n",
      "reg_branches\n",
      " ModuleList(\n",
      "  (0): Sequential(\n",
      "    (0): Linear(in_features=256, out_features=256, bias=True)\n",
      "    (1): ReLU()\n",
      "    (2): Linear(in_features=256, out_features=256, bias=True)\n",
      "    (3): ReLU()\n",
      "    (4): Linear(in_features=256, out_features=10, bias=True)\n",
      "  )\n",
      "  (1): Sequential(\n",
      "    (0): Linear(in_features=256, out_features=256, bias=True)\n",
      "    (1): ReLU()\n",
      "    (2): Linear(in_features=256, out_features=256, bias=True)\n",
      "    (3): ReLU()\n",
      "    (4): Linear(in_features=256, out_features=10, bias=True)\n",
      "  )\n",
      "  (2): Sequential(\n",
      "    (0): Linear(in_features=256, out_features=256, bias=True)\n",
      "    (1): ReLU()\n",
      "    (2): Linear(in_features=256, out_features=256, bias=True)\n",
      "    (3): ReLU()\n",
      "    (4): Linear(in_features=256, out_features=10, bias=True)\n",
      "  )\n",
      "  (3): Sequential(\n",
      "    (0): Linear(in_features=256, out_features=256, bias=True)\n",
      "    (1): ReLU()\n",
      "    (2): Linear(in_features=256, out_features=256, bias=True)\n",
      "    (3): ReLU()\n",
      "    (4): Linear(in_features=256, out_features=10, bias=True)\n",
      "  )\n",
      "  (4): Sequential(\n",
      "    (0): Linear(in_features=256, out_features=256, bias=True)\n",
      "    (1): ReLU()\n",
      "    (2): Linear(in_features=256, out_features=256, bias=True)\n",
      "    (3): ReLU()\n",
      "    (4): Linear(in_features=256, out_features=10, bias=True)\n",
      "  )\n",
      "  (5): Sequential(\n",
      "    (0): Linear(in_features=256, out_features=256, bias=True)\n",
      "    (1): ReLU()\n",
      "    (2): Linear(in_features=256, out_features=256, bias=True)\n",
      "    (3): ReLU()\n",
      "    (4): Linear(in_features=256, out_features=10, bias=True)\n",
      "  )\n",
      ") \n",
      "\n",
      "adapt_pos3d\n",
      " Sequential(\n",
      "  (0): Conv2d(384, 1024, kernel_size=(1, 1), stride=(1, 1))\n",
      "  (1): ReLU()\n",
      "  (2): Conv2d(1024, 256, kernel_size=(1, 1), stride=(1, 1))\n",
      ") \n",
      "\n",
      "cls_branches\n",
      " ModuleList(\n",
      "  (0): Sequential(\n",
      "    (0): Linear(in_features=256, out_features=256, bias=True)\n",
      "    (1): LayerNorm((256,), eps=1e-05, elementwise_affine=True)\n",
      "    (2): ReLU(inplace=True)\n",
      "    (3): Linear(in_features=256, out_features=256, bias=True)\n",
      "    (4): LayerNorm((256,), eps=1e-05, elementwise_affine=True)\n",
      "    (5): ReLU(inplace=True)\n",
      "    (6): Linear(in_features=256, out_features=10, bias=True)\n",
      "  )\n",
      "  (1): Sequential(\n",
      "    (0): Linear(in_features=256, out_features=256, bias=True)\n",
      "    (1): LayerNorm((256,), eps=1e-05, elementwise_affine=True)\n",
      "    (2): ReLU(inplace=True)\n",
      "    (3): Linear(in_features=256, out_features=256, bias=True)\n",
      "    (4): LayerNorm((256,), eps=1e-05, elementwise_affine=True)\n",
      "    (5): ReLU(inplace=True)\n",
      "    (6): Linear(in_features=256, out_features=10, bias=True)\n",
      "  )\n",
      "  (2): Sequential(\n",
      "    (0): Linear(in_features=256, out_features=256, bias=True)\n",
      "    (1): LayerNorm((256,), eps=1e-05, elementwise_affine=True)\n",
      "    (2): ReLU(inplace=True)\n",
      "    (3): Linear(in_features=256, out_features=256, bias=True)\n",
      "    (4): LayerNorm((256,), eps=1e-05, elementwise_affine=True)\n",
      "    (5): ReLU(inplace=True)\n",
      "    (6): Linear(in_features=256, out_features=10, bias=True)\n",
      "  )\n",
      "  (3): Sequential(\n",
      "    (0): Linear(in_features=256, out_features=256, bias=True)\n",
      "    (1): LayerNorm((256,), eps=1e-05, elementwise_affine=True)\n",
      "    (2): ReLU(inplace=True)\n",
      "    (3): Linear(in_features=256, out_features=256, bias=True)\n",
      "    (4): LayerNorm((256,), eps=1e-05, elementwise_affine=True)\n",
      "    (5): ReLU(inplace=True)\n",
      "    (6): Linear(in_features=256, out_features=10, bias=True)\n",
      "  )\n",
      "  (4): Sequential(\n",
      "    (0): Linear(in_features=256, out_features=256, bias=True)\n",
      "    (1): LayerNorm((256,), eps=1e-05, elementwise_affine=True)\n",
      "    (2): ReLU(inplace=True)\n",
      "    (3): Linear(in_features=256, out_features=256, bias=True)\n",
      "    (4): LayerNorm((256,), eps=1e-05, elementwise_affine=True)\n",
      "    (5): ReLU(inplace=True)\n",
      "    (6): Linear(in_features=256, out_features=10, bias=True)\n",
      "  )\n",
      "  (5): Sequential(\n",
      "    (0): Linear(in_features=256, out_features=256, bias=True)\n",
      "    (1): LayerNorm((256,), eps=1e-05, elementwise_affine=True)\n",
      "    (2): ReLU(inplace=True)\n",
      "    (3): Linear(in_features=256, out_features=256, bias=True)\n",
      "    (4): LayerNorm((256,), eps=1e-05, elementwise_affine=True)\n",
      "    (5): ReLU(inplace=True)\n",
      "    (6): Linear(in_features=256, out_features=10, bias=True)\n",
      "  )\n",
      ") \n",
      "\n",
      "build PETRTransformer\n",
      "NMSFreeCoder\n",
      "query_embedding\n",
      " Sequential(\n",
      "  (0): Linear(in_features=384, out_features=256, bias=True)\n",
      "  (1): ReLU()\n",
      "  (2): Linear(in_features=256, out_features=256, bias=True)\n",
      ") \n",
      "\n",
      "reference_points\n",
      " Embedding(900, 3) \n",
      "\n",
      "reg_branches\n",
      " ModuleList(\n",
      "  (0): Sequential(\n",
      "    (0): Linear(in_features=256, out_features=256, bias=True)\n",
      "    (1): ReLU()\n",
      "    (2): Linear(in_features=256, out_features=256, bias=True)\n",
      "    (3): ReLU()\n",
      "    (4): Linear(in_features=256, out_features=10, bias=True)\n",
      "  )\n",
      "  (1): Sequential(\n",
      "    (0): Linear(in_features=256, out_features=256, bias=True)\n",
      "    (1): ReLU()\n",
      "    (2): Linear(in_features=256, out_features=256, bias=True)\n",
      "    (3): ReLU()\n",
      "    (4): Linear(in_features=256, out_features=10, bias=True)\n",
      "  )\n",
      "  (2): Sequential(\n",
      "    (0): Linear(in_features=256, out_features=256, bias=True)\n",
      "    (1): ReLU()\n",
      "    (2): Linear(in_features=256, out_features=256, bias=True)\n",
      "    (3): ReLU()\n",
      "    (4): Linear(in_features=256, out_features=10, bias=True)\n",
      "  )\n",
      "  (3): Sequential(\n",
      "    (0): Linear(in_features=256, out_features=256, bias=True)\n",
      "    (1): ReLU()\n",
      "    (2): Linear(in_features=256, out_features=256, bias=True)\n",
      "    (3): ReLU()\n",
      "    (4): Linear(in_features=256, out_features=10, bias=True)\n",
      "  )\n",
      "  (4): Sequential(\n",
      "    (0): Linear(in_features=256, out_features=256, bias=True)\n",
      "    (1): ReLU()\n",
      "    (2): Linear(in_features=256, out_features=256, bias=True)\n",
      "    (3): ReLU()\n",
      "    (4): Linear(in_features=256, out_features=10, bias=True)\n",
      "  )\n",
      "  (5): Sequential(\n",
      "    (0): Linear(in_features=256, out_features=256, bias=True)\n",
      "    (1): ReLU()\n",
      "    (2): Linear(in_features=256, out_features=256, bias=True)\n",
      "    (3): ReLU()\n",
      "    (4): Linear(in_features=256, out_features=10, bias=True)\n",
      "  )\n",
      ") \n",
      "\n",
      "adapt_pos3d\n",
      " Sequential(\n",
      "  (0): Conv2d(384, 1024, kernel_size=(1, 1), stride=(1, 1))\n",
      "  (1): ReLU()\n",
      "  (2): Conv2d(1024, 256, kernel_size=(1, 1), stride=(1, 1))\n",
      ") \n",
      "\n",
      "cls_branches\n",
      " ModuleList(\n",
      "  (0): Sequential(\n",
      "    (0): Linear(in_features=256, out_features=256, bias=True)\n",
      "    (1): LayerNorm((256,), eps=1e-05, elementwise_affine=True)\n",
      "    (2): ReLU(inplace=True)\n",
      "    (3): Linear(in_features=256, out_features=256, bias=True)\n",
      "    (4): LayerNorm((256,), eps=1e-05, elementwise_affine=True)\n",
      "    (5): ReLU(inplace=True)\n",
      "    (6): Linear(in_features=256, out_features=10, bias=True)\n",
      "  )\n",
      "  (1): Sequential(\n",
      "    (0): Linear(in_features=256, out_features=256, bias=True)\n",
      "    (1): LayerNorm((256,), eps=1e-05, elementwise_affine=True)\n",
      "    (2): ReLU(inplace=True)\n",
      "    (3): Linear(in_features=256, out_features=256, bias=True)\n",
      "    (4): LayerNorm((256,), eps=1e-05, elementwise_affine=True)\n",
      "    (5): ReLU(inplace=True)\n",
      "    (6): Linear(in_features=256, out_features=10, bias=True)\n",
      "  )\n",
      "  (2): Sequential(\n",
      "    (0): Linear(in_features=256, out_features=256, bias=True)\n",
      "    (1): LayerNorm((256,), eps=1e-05, elementwise_affine=True)\n",
      "    (2): ReLU(inplace=True)\n",
      "    (3): Linear(in_features=256, out_features=256, bias=True)\n",
      "    (4): LayerNorm((256,), eps=1e-05, elementwise_affine=True)\n",
      "    (5): ReLU(inplace=True)\n",
      "    (6): Linear(in_features=256, out_features=10, bias=True)\n",
      "  )\n",
      "  (3): Sequential(\n",
      "    (0): Linear(in_features=256, out_features=256, bias=True)\n",
      "    (1): LayerNorm((256,), eps=1e-05, elementwise_affine=True)\n",
      "    (2): ReLU(inplace=True)\n",
      "    (3): Linear(in_features=256, out_features=256, bias=True)\n",
      "    (4): LayerNorm((256,), eps=1e-05, elementwise_affine=True)\n",
      "    (5): ReLU(inplace=True)\n",
      "    (6): Linear(in_features=256, out_features=10, bias=True)\n",
      "  )\n",
      "  (4): Sequential(\n",
      "    (0): Linear(in_features=256, out_features=256, bias=True)\n",
      "    (1): LayerNorm((256,), eps=1e-05, elementwise_affine=True)\n",
      "    (2): ReLU(inplace=True)\n",
      "    (3): Linear(in_features=256, out_features=256, bias=True)\n",
      "    (4): LayerNorm((256,), eps=1e-05, elementwise_affine=True)\n",
      "    (5): ReLU(inplace=True)\n",
      "    (6): Linear(in_features=256, out_features=10, bias=True)\n",
      "  )\n",
      "  (5): Sequential(\n",
      "    (0): Linear(in_features=256, out_features=256, bias=True)\n",
      "    (1): LayerNorm((256,), eps=1e-05, elementwise_affine=True)\n",
      "    (2): ReLU(inplace=True)\n",
      "    (3): Linear(in_features=256, out_features=256, bias=True)\n",
      "    (4): LayerNorm((256,), eps=1e-05, elementwise_affine=True)\n",
      "    (5): ReLU(inplace=True)\n",
      "    (6): Linear(in_features=256, out_features=10, bias=True)\n",
      "  )\n",
      ") \n",
      "\n"
     ]
    }
   ],
   "source": [
    "model = build_model(cfg.model, test_cfg=cfg.get(\"test_cfg\"))\n",
    "\n",
    "\n",
    "model.cuda()\n",
    "model = MMDataParallel(model, device_ids=[0])\n"
   ]
  },
  {
   "cell_type": "code",
   "execution_count": 6,
   "metadata": {},
   "outputs": [
    {
     "data": {
      "text/plain": [
       "dict_keys(['img_metas', 'img'])"
      ]
     },
     "execution_count": 6,
     "metadata": {},
     "output_type": "execute_result"
    }
   ],
   "source": [
    "sample.keys()"
   ]
  },
  {
   "cell_type": "code",
   "execution_count": null,
   "metadata": {},
   "outputs": [
    {
     "data": {
      "text/plain": [
       "[DataContainer([[{'filename': ['./data/nuscenes/samples/CAM_FRONT/n008-2018-08-01-15-16-36-0400__CAM_FRONT__1533151603512404.jpg', './data/nuscenes/samples/CAM_FRONT_RIGHT/n008-2018-08-01-15-16-36-0400__CAM_FRONT_RIGHT__1533151603520482.jpg', './data/nuscenes/samples/CAM_FRONT_LEFT/n008-2018-08-01-15-16-36-0400__CAM_FRONT_LEFT__1533151603504799.jpg', './data/nuscenes/samples/CAM_BACK/n008-2018-08-01-15-16-36-0400__CAM_BACK__1533151603537558.jpg', './data/nuscenes/samples/CAM_BACK_LEFT/n008-2018-08-01-15-16-36-0400__CAM_BACK_LEFT__1533151603547405.jpg', './data/nuscenes/samples/CAM_BACK_RIGHT/n008-2018-08-01-15-16-36-0400__CAM_BACK_RIGHT__1533151603528113.jpg'], 'ori_shape': (900, 1600, 3, 6), 'img_shape': [(512, 1408, 3), (512, 1408, 3), (512, 1408, 3), (512, 1408, 3), (512, 1408, 3), (512, 1408, 3)], 'lidar2img': [array([[ 1.09383099e+03,  7.39771576e+02,  2.88310468e+01,\n",
       "         -3.11829001e+02],\n",
       "        [-1.27404083e+01,  1.92810809e+02, -1.09359924e+03,\n",
       "         -4.48285911e+02],\n",
       "        [-1.17025046e-02,  9.98471159e-01,  5.40221896e-02,\n",
       "         -4.25203639e-01],\n",
       "        [ 0.00000000e+00,  0.00000000e+00,  0.00000000e+00,\n",
       "          1.00000000e+00]]), array([[ 1.20115295e+03, -5.44953074e+02, -3.54984642e+01,\n",
       "         -4.06245713e+02],\n",
       "        [ 9.77729347e+01,  1.31703026e+02, -1.10002412e+03,\n",
       "         -4.38545404e+02],\n",
       "        [ 8.43406855e-01,  5.36312055e-01,  3.21598489e-02,\n",
       "         -6.10371854e-01],\n",
       "        [ 0.00000000e+00,  0.00000000e+00,  0.00000000e+00,\n",
       "          1.00000000e+00]]), array([[ 2.84854539e+01,  1.32277575e+03,  6.83084004e+01,\n",
       "         -2.66145337e+02],\n",
       "        [-1.12045490e+02,  1.23525336e+02, -1.10050015e+03,\n",
       "         -4.49584195e+02],\n",
       "        [-8.23415292e-01,  5.65940098e-01,  4.12196894e-02,\n",
       "         -5.29677094e-01],\n",
       "        [ 0.00000000e+00,  0.00000000e+00,  0.00000000e+00,\n",
       "          1.00000000e+00]]), array([[-7.07504372e+02, -7.48636995e+02, -2.32651434e+01,\n",
       "         -7.66300465e+02],\n",
       "        [-7.19110758e+00, -1.12075521e+02, -7.06160961e+02,\n",
       "         -3.39035147e+02],\n",
       "        [-8.33350064e-03, -9.99200442e-01, -3.91028008e-02,\n",
       "         -1.01645350e+00],\n",
       "        [ 0.00000000e+00,  0.00000000e+00,  0.00000000e+00,\n",
       "          1.00000000e+00]]), array([[-1.04417817e+03,  8.12470064e+02,  4.68724599e+01,\n",
       "         -5.50300244e+02],\n",
       "        [-1.41786160e+02, -7.80513476e-01, -1.10306736e+03,\n",
       "         -3.73301395e+02],\n",
       "        [-9.47586752e-01, -3.19482867e-01,  3.16948959e-03,\n",
       "         -4.32527296e-01],\n",
       "        [ 0.00000000e+00,  0.00000000e+00,  0.00000000e+00,\n",
       "          1.00000000e+00]]), array([[ 2.50966523e+02, -1.29296333e+03, -5.24158175e+01,\n",
       "         -2.39888280e+02],\n",
       "        [ 1.32632897e+02, -1.05758180e+00, -1.09930677e+03,\n",
       "         -3.87555941e+02],\n",
       "        [ 9.24052925e-01, -3.82246554e-01, -3.70989150e-03,\n",
       "         -4.64645142e-01],\n",
       "        [ 0.00000000e+00,  0.00000000e+00,  0.00000000e+00,\n",
       "          1.00000000e+00]])], 'pad_shape': [(512, 1408, 3), (512, 1408, 3), (512, 1408, 3), (512, 1408, 3), (512, 1408, 3), (512, 1408, 3)], 'scale_factor': 1.0, 'flip': False, 'pcd_horizontal_flip': False, 'pcd_vertical_flip': False, 'box_mode_3d': <Box3DMode.LIDAR: 0>, 'box_type_3d': <class 'mmdet3d.core.bbox.structures.lidar_box3d.LiDARInstance3DBoxes'>, 'img_norm_cfg': {'mean': array([103.53 , 116.28 , 123.675], dtype=float32), 'std': array([1., 1., 1.], dtype=float32), 'to_rgb': False}, 'sample_idx': '3e8750f331d7499e9b5123e9eb70f2e2', 'pcd_scale_factor': 1.0, 'pts_filename': './data/nuscenes/samples/LIDAR_TOP/n008-2018-08-01-15-16-36-0400__LIDAR_TOP__1533151603547590.pcd.bin'}, {'filename': ['./data/nuscenes/samples/CAM_FRONT/n008-2018-08-01-15-16-36-0400__CAM_FRONT__1533151604012404.jpg', './data/nuscenes/samples/CAM_FRONT_RIGHT/n008-2018-08-01-15-16-36-0400__CAM_FRONT_RIGHT__1533151604020482.jpg', './data/nuscenes/samples/CAM_FRONT_LEFT/n008-2018-08-01-15-16-36-0400__CAM_FRONT_LEFT__1533151604004799.jpg', './data/nuscenes/samples/CAM_BACK/n008-2018-08-01-15-16-36-0400__CAM_BACK__1533151604037558.jpg', './data/nuscenes/samples/CAM_BACK_LEFT/n008-2018-08-01-15-16-36-0400__CAM_BACK_LEFT__1533151604047405.jpg', './data/nuscenes/samples/CAM_BACK_RIGHT/n008-2018-08-01-15-16-36-0400__CAM_BACK_RIGHT__1533151604028370.jpg'], 'ori_shape': (900, 1600, 3, 6), 'img_shape': [(512, 1408, 3), (512, 1408, 3), (512, 1408, 3), (512, 1408, 3), (512, 1408, 3), (512, 1408, 3)], 'lidar2img': [array([[ 1.09348883e+03,  7.40219364e+02,  3.02807696e+01,\n",
       "         -3.17192975e+02],\n",
       "        [-1.17362925e+01,  1.93343383e+02, -1.09351645e+03,\n",
       "         -4.49114488e+02],\n",
       "        [-1.21784540e-02,  9.98439428e-01,  5.45013163e-02,\n",
       "         -4.36208813e-01],\n",
       "        [ 0.00000000e+00,  0.00000000e+00,  0.00000000e+00,\n",
       "          1.00000000e+00]]), array([[ 1.20130380e+03, -5.44673149e+02, -3.46805865e+01,\n",
       "         -3.99076570e+02],\n",
       "        [ 9.87236864e+01,  1.32233473e+02, -1.09987556e+03,\n",
       "         -4.38337772e+02],\n",
       "        [ 8.43260017e-01,  5.36482073e-01,  3.31591610e-02,\n",
       "         -6.13056247e-01],\n",
       "        [ 0.00000000e+00,  0.00000000e+00,  0.00000000e+00,\n",
       "          1.00000000e+00]]), array([[ 2.75218354e+01,  1.32275893e+03,  6.90253841e+01,\n",
       "         -2.83276726e+02],\n",
       "        [-1.10926136e+02,  1.24021510e+02, -1.10055774e+03,\n",
       "         -4.49997929e+02],\n",
       "        [-8.23839985e-01,  5.65365582e-01,  4.06132648e-02,\n",
       "         -5.39402644e-01],\n",
       "        [ 0.00000000e+00,  0.00000000e+00,  0.00000000e+00,\n",
       "          1.00000000e+00]]), array([[-7.07429250e+02, -7.48696305e+02, -2.36379541e+01,\n",
       "         -7.66326180e+02],\n",
       "        [-6.89816077e+00, -1.11992023e+02, -7.06177131e+02,\n",
       "         -3.38854767e+02],\n",
       "        [-8.23008681e-03, -9.99196504e-01, -3.92251416e-02,\n",
       "         -1.01566869e+00],\n",
       "        [ 0.00000000e+00,  0.00000000e+00,  0.00000000e+00,\n",
       "          1.00000000e+00]]), array([[-1.04415410e+03,  8.12501441e+02,  4.68648891e+01,\n",
       "         -5.47087590e+02],\n",
       "        [-1.41716874e+02, -6.97002833e-01, -1.10307632e+03,\n",
       "         -3.73471441e+02],\n",
       "        [-9.47597573e-01, -3.19451577e-01,  3.08712739e-03,\n",
       "         -4.33616297e-01],\n",
       "        [ 0.00000000e+00,  0.00000000e+00,  0.00000000e+00,\n",
       "          1.00000000e+00]]), array([[ 2.51196218e+02, -1.29291336e+03, -5.25480928e+01,\n",
       "         -2.30173412e+02],\n",
       "        [ 1.33436178e+02, -7.69465944e-01, -1.09920980e+03,\n",
       "         -3.86602311e+02],\n",
       "        [ 9.24111984e-01, -3.82108958e-01, -3.12805665e-03,\n",
       "         -4.60392010e-01],\n",
       "        [ 0.00000000e+00,  0.00000000e+00,  0.00000000e+00,\n",
       "          1.00000000e+00]])], 'pad_shape': [(512, 1408, 3), (512, 1408, 3), (512, 1408, 3), (512, 1408, 3), (512, 1408, 3), (512, 1408, 3)], 'scale_factor': 1.0, 'flip': False, 'pcd_horizontal_flip': False, 'pcd_vertical_flip': False, 'box_mode_3d': <Box3DMode.LIDAR: 0>, 'box_type_3d': <class 'mmdet3d.core.bbox.structures.lidar_box3d.LiDARInstance3DBoxes'>, 'img_norm_cfg': {'mean': array([103.53 , 116.28 , 123.675], dtype=float32), 'std': array([1., 1., 1.], dtype=float32), 'to_rgb': False}, 'sample_idx': '3950bd41f74548429c0f7700ff3d8269', 'pcd_scale_factor': 1.0, 'pts_filename': './data/nuscenes/samples/LIDAR_TOP/n008-2018-08-01-15-16-36-0400__LIDAR_TOP__1533151604048025.pcd.bin'}]])]"
      ]
     },
     "execution_count": 9,
     "metadata": {},
     "output_type": "execute_result"
    }
   ],
   "source": [
    "sample['img_metas']\n"
   ]
  },
  {
   "cell_type": "code",
   "execution_count": 9,
   "metadata": {},
   "outputs": [
    {
     "name": "stdout",
     "output_type": "stream",
     "text": [
      "PETR_HEAD FORWARD Input: x.shape =torch.Size([2, 6, 256, 32, 88])\n",
      "PETR_HEAD FORWARD Input Proj: x.shape =torch.Size([12, 256, 32, 88])\n",
      "PETR_HEAD FORWARD Mask: torch.Size([2, 6, 32, 88])\n",
      "PETR_HEAD FORWARD posembed: torch.Size([2, 6, 256, 32, 88])\n",
      "POS SINE: pos_n.shape =torch.Size([2, 6, 32, 88, 128]) pos_x.shape =torch.Size([2, 6, 32, 88, 128]) pos_y.shape =torch.Size([2, 6, 32, 88, 128]), pos.shape =torch.Size([2, 6, 384, 32, 88])  mask.shape =torch.Size([2, 6, 32, 88])\n",
      "PETR_HEAD FORWARD reference_points: torch.Size([900, 3])\n",
      "pos2posemb3d input:  torch.Size([900, 3])\n",
      "pos_x.shape = torch.Size([900, 128]), pos_y.shape = torch.Size([900, 128]), pos_z.shape = torch.Size([900, 128]), posemb.shape = torch.Size([900, 384])\n",
      "PETR_HEAD FORWARD query_embeds: torch.Size([900, 256])\n",
      "PETR_HEAD FORWARD reference_points: torch.Size([2, 900, 3])\n",
      "memory.shape = torch.Size([16896, 2, 256])\n",
      "pos_embed.shape = torch.Size([16896, 2, 256])\n",
      "query_embed.shape = torch.Size([900, 2, 256])\n",
      "mask.shape = torch.Size([2, 16896])\n",
      "target.shape = torch.Size([900, 2, 256])\n",
      "out_dec.shape = torch.Size([1, 900, 2, 256])\n",
      "out: out_dec.shape = torch.Size([1, 2, 900, 256]) memory.shape = torch.Size([2, 6, 256, 32, 88])\n",
      "PETR_HEAD FORWARD outs_dec: torch.Size([1, 2, 900, 256])\n",
      "PETR_HEAD FORWARD reference: torch.Size([2, 900, 3])\n",
      "PETR_HEAD FORWARD outputs_class: torch.Size([2, 900, 10])\n",
      "PETR_HEAD FORWARD outs_dec: torch.Size([2, 900, 256])\n",
      "PETR_HEAD FORWARD tmp: torch.Size([2, 900, 10])\n",
      "PETR_HEAD FORWARD tmp ref: torch.Size([2, 900, 2]), torch.Size([2, 900, 2])\n",
      "PETR_HEAD FORWARD tmp ref: torch.Size([2, 900, 1]) , torch.Size([2, 900, 1])\n",
      "PETR_HEAD FORWARD tmptmp: torch.Size([2, 900, 10])\n",
      "PETR_HEAD FORWARD all_cls_scores: torch.Size([1, 2, 900, 10])\n",
      "PETR_HEAD FORWARD all_bbox_preds: torch.Size([1, 2, 900, 10])\n",
      "PETR_HEAD FORWARD all_bbox_preds: torch.Size([1, 2, 900, 10])\n",
      "all_cls_scores.shape = torch.Size([2, 900, 10])\n",
      "all_bbox_preds.shape = torch.Size([2, 900, 10])\n",
      "max_num = 300\n",
      "cls_scores.shape = torch.Size([900, 10])\n",
      "scores.shape = torch.Size([300]) indexs.shape = torch.Size([300])\n",
      "bbox_index.shape = torch.Size([300])  raw bbox_preds.shape = torch.Size([900, 10]) \n",
      "bbox_preds.shape = torch.Size([300, 10]) \n",
      "final_box_preds.shape = torch.Size([300, 9]) \n",
      "NMS_FREE DECODE SINGLE MASK torch.Size([300])\n",
      "NMS_FREE DECODE SINGLE boxes3d torch.Size([300, 9])\n",
      "max_num = 300\n",
      "cls_scores.shape = torch.Size([900, 10])\n",
      "scores.shape = torch.Size([300]) indexs.shape = torch.Size([300])\n",
      "bbox_index.shape = torch.Size([300])  raw bbox_preds.shape = torch.Size([900, 10]) \n",
      "bbox_preds.shape = torch.Size([300, 10]) \n",
      "final_box_preds.shape = torch.Size([300, 9]) \n",
      "NMS_FREE DECODE SINGLE MASK torch.Size([300])\n",
      "NMS_FREE DECODE SINGLE boxes3d torch.Size([300, 9])\n"
     ]
    }
   ],
   "source": [
    "with torch.no_grad():\n",
    "    result = model(\n",
    "        return_loss=False,\n",
    "        rescale=True,\n",
    "        img_metas=sample['img_metas'],\n",
    "        img=sample['img'],\n",
    "        #future_egomotions=sample['future_egomotions'],\n",
    "        #motion_targets=motion_distribution_targets,\n",
    "        #img_is_valid=sample['img_is_valid'][0],\n",
    "    )\n"
   ]
  },
  {
   "cell_type": "code",
   "execution_count": 22,
   "metadata": {},
   "outputs": [
    {
     "data": {
      "text/plain": [
       "torch.Size([300, 9])"
      ]
     },
     "execution_count": 22,
     "metadata": {},
     "output_type": "execute_result"
    }
   ],
   "source": [
    "(result[0][\"pts_bbox\"][\"boxes_3d\"].tensor.shape)  # labels_3d\n"
   ]
  },
  {
   "cell_type": "markdown",
   "metadata": {},
   "source": [
    "What do I "
   ]
  }
 ],
 "metadata": {
  "kernelspec": {
   "display_name": "Python 3.8.10 ('venv': venv)",
   "language": "python",
   "name": "python3"
  },
  "language_info": {
   "codemirror_mode": {
    "name": "ipython",
    "version": 3
   },
   "file_extension": ".py",
   "mimetype": "text/x-python",
   "name": "python",
   "nbconvert_exporter": "python",
   "pygments_lexer": "ipython3",
   "version": "3.8.10"
  },
  "orig_nbformat": 4,
  "vscode": {
   "interpreter": {
    "hash": "49a6cb26e152f15aca94d1d3fa9630fb57fb8fd83a336982cd2ebf9e9635e69c"
   }
  }
 },
 "nbformat": 4,
 "nbformat_minor": 2
}
